{
  "nbformat": 4,
  "nbformat_minor": 0,
  "metadata": {
    "colab": {
      "name": "CycleGAN_20200520.ipynb",
      "provenance": [],
      "collapsed_sections": [],
      "authorship_tag": "ABX9TyN44ub4/l0oPKAdUs3gUGNb",
      "include_colab_link": true
    },
    "kernelspec": {
      "name": "python3",
      "display_name": "Python 3"
    },
    "accelerator": "GPU"
  },
  "cells": [
    {
      "cell_type": "markdown",
      "metadata": {
        "id": "view-in-github",
        "colab_type": "text"
      },
      "source": [
        "<a href=\"https://colab.research.google.com/github/Mario2712/CycleGAN/blob/master/CycleGAN_pool.ipynb\" target=\"_parent\"><img src=\"https://colab.research.google.com/assets/colab-badge.svg\" alt=\"Open In Colab\"/></a>"
      ]
    },
    {
      "cell_type": "markdown",
      "metadata": {
        "id": "Sx1n6fAZ5T4V",
        "colab_type": "text"
      },
      "source": [
        "## Import Data"
      ]
    },
    {
      "cell_type": "code",
      "metadata": {
        "id": "BaJIkF5O5S5T",
        "colab_type": "code",
        "colab": {}
      },
      "source": [
        "# example of preparing the horses and zebra ddataset\n",
        "from os import listdir\n",
        "from numpy import asarray\n",
        "from numpy import vstack\n",
        "from keras.preprocessing.image import img_to_array\n",
        "from keras.preprocessing.image import load_img\n",
        "from numpy import savez_compressed\n",
        "\n",
        "# load all images in a directory into memory\n",
        "def load_images(path, size=(256,256)):\n",
        "  data_list = list()\n",
        "  # enumerate filenames in directory, assume all are images\n",
        "  for filename in listdir(path):\n",
        "    # load and resize the image\n",
        "    pixels = load_img(path + filename, target_size=size)\n",
        "    # convert to numpy array\n",
        "    pixels = img_to_array(pixels)\n",
        "    # store\n",
        "    data_list.append(pixels)\n",
        "  return asarray(data_list)\n",
        "\n",
        "# dataset path\n",
        "path = '/content/nopool2pool/'\n",
        "# load dataset A\n",
        "dataA1 = load_images(path + 'trainA/')\n",
        "dataAB = load_images(path + 'testA/')\n",
        "dataA = vstack((dataA1, dataAB))\n",
        "print('Loaded dataA: ', dataA.shape)\n",
        "# load dataset B\n",
        "dataB1 = load_images(path + 'trainB/')\n",
        "dataB2 = load_images(path + 'testB/')\n",
        "dataB = vstack((dataB1, dataB2))\n",
        "print('Loaded dataB: ', dataB.shape)\n",
        "# save as compressed numpy array\n",
        "filename = 'nopool2pool_256.npz'\n",
        "savez_compressed(filename, dataA, dataB)\n",
        "print('Saved dataset: ', filename)"
      ],
      "execution_count": 0,
      "outputs": []
    },
    {
      "cell_type": "markdown",
      "metadata": {
        "id": "_XALw2mR9yAg",
        "colab_type": "text"
      },
      "source": [
        "## Load Dataset / Show"
      ]
    },
    {
      "cell_type": "code",
      "metadata": {
        "id": "D7Pmq0I591iw",
        "colab_type": "code",
        "colab": {}
      },
      "source": [
        "# load and plot the prepared dataset\n",
        "from numpy import load\n",
        "from matplotlib import pyplot\n",
        "# load the dataset\n",
        "data = load('nopool2pool_256.npz')\n",
        "dataA, dataB = data['arr_0'], data['arr_1']\n",
        "print('Loaded: ', dataA.shape, dataB.shape)\n",
        "# plot source images\n",
        "n_samples = 3\n",
        "for i in range(n_samples):\n",
        "  pyplot.subplot(2, n_samples, 1 + i)\n",
        "  pyplot.axis('off')\n",
        "  pyplot.imshow(dataA[i].astype('uint8'))\n",
        "# plot target image\n",
        "for i in range(n_samples):\n",
        "  pyplot.subplot(2, n_samples, 1 + n_samples + i)\n",
        "  pyplot.axis('off')\n",
        "  pyplot.imshow(dataB[i].astype('uint8'))\n",
        "pyplot.show()"
      ],
      "execution_count": 0,
      "outputs": []
    },
    {
      "cell_type": "markdown",
      "metadata": {
        "id": "utq_K22D-oW2",
        "colab_type": "text"
      },
      "source": [
        "## Keras-Contrib"
      ]
    },
    {
      "cell_type": "code",
      "metadata": {
        "id": "EZtZe95N-qcA",
        "colab_type": "code",
        "colab": {}
      },
      "source": [
        "!pip install git+https://www.github.com/keras-team/keras-contrib.git"
      ],
      "execution_count": 0,
      "outputs": []
    },
    {
      "cell_type": "markdown",
      "metadata": {
        "id": "kZT8vixY-zaC",
        "colab_type": "text"
      },
      "source": [
        "## Discriminator"
      ]
    },
    {
      "cell_type": "code",
      "metadata": {
        "id": "w_WUK3ij-1WT",
        "colab_type": "code",
        "colab": {}
      },
      "source": [
        "# define the discriminator model\n",
        "def define_discriminator(image_shape):\n",
        "  # weight initialization\n",
        "  init = RandomNormal(stddev=0.02)\n",
        "  # source image input\n",
        "  in_image = Input(shape=image_shape)\n",
        "  # C64\n",
        "  d = Conv2D(64, (4,4), strides=(2,2), padding='same', kernel_initializer=init)(in_image)\n",
        "  d = LeakyReLU(alpha=0.2)(d)\n",
        "  # C128\n",
        "  d = Conv2D(128, (4,4), strides=(2,2), padding='same', kernel_initializer=init)(d)\n",
        "  d = InstanceNormalization(axis=-1)(d)\n",
        "  d = LeakyReLU(alpha=0.2)(d)\n",
        "  # C256\n",
        "  d = Conv2D(256, (4,4), strides=(2,2), padding='same', kernel_initializer=init)(d)\n",
        "  d = InstanceNormalization(axis=-1)(d)\n",
        "  d = LeakyReLU(alpha=0.2)(d)\n",
        "  # C512\n",
        "  d = Conv2D(512, (4,4), strides=(2,2), padding='same', kernel_initializer=init)(d)\n",
        "  d = InstanceNormalization(axis=-1)(d)\n",
        "  d = LeakyReLU(alpha=0.2)(d)\n",
        "  # second last output layer\n",
        "  d = Conv2D(512, (4,4), padding='same', kernel_initializer=init)(d)\n",
        "  d = InstanceNormalization(axis=-1)(d)\n",
        "  d = LeakyReLU(alpha=0.2)(d)\n",
        "  # patch output\n",
        "  patch_out = Conv2D(1, (4,4), padding='same', kernel_initializer=init)(d)\n",
        "  # define model\n",
        "  model = Model(in_image, patch_out)\n",
        "  # compile model\n",
        "  model.compile(loss='mse', optimizer=Adam(lr=0.00005, beta_1=0.5), loss_weights=[0.5])\n",
        "  return model"
      ],
      "execution_count": 0,
      "outputs": []
    },
    {
      "cell_type": "markdown",
      "metadata": {
        "id": "SlVk8zN1ATVR",
        "colab_type": "text"
      },
      "source": [
        "## Generator"
      ]
    },
    {
      "cell_type": "code",
      "metadata": {
        "id": "Vi1gzwAfAUaI",
        "colab_type": "code",
        "colab": {}
      },
      "source": [
        "# generator a resnet block\n",
        "def resnet_block(n_filters, input_layer):\n",
        "  # weight initialization\n",
        "  init = RandomNormal(stddev=0.02)\n",
        "  # first layer convolutional layer\n",
        "  g = Conv2D(n_filters, (3,3), padding='same', kernel_initializer=init)(input_layer)\n",
        "  g = InstanceNormalization(axis=-1)(g)\n",
        "  g = Activation('relu')(g)\n",
        "  # second convolutional layer\n",
        "  g = Conv2D(n_filters, (3,3), padding='same', kernel_initializer=init)(g)\n",
        "  g = InstanceNormalization(axis=-1)(g)\n",
        "  # concatenate merge channel-wise with input layer\n",
        "  g = Concatenate()([g, input_layer])\n",
        "  return g"
      ],
      "execution_count": 0,
      "outputs": []
    },
    {
      "cell_type": "code",
      "metadata": {
        "id": "3UYDLRIHA4XD",
        "colab_type": "code",
        "colab": {}
      },
      "source": [
        "# define the standalone generator model\n",
        "def define_generator(image_shape, n_resnet=9):\n",
        "  # weight initialization\n",
        "  init = RandomNormal(stddev=0.02)\n",
        "  # image input\n",
        "  in_image = Input(shape=image_shape)\n",
        "  # c7s1-64\n",
        "  g = Conv2D(64, (7,7), padding='same', kernel_initializer=init)(in_image)\n",
        "  g = InstanceNormalization(axis=-1)(g)\n",
        "  g = Activation('relu')(g)\n",
        "  # d128\n",
        "  g = Conv2D(128, (3,3), strides=(2,2), padding='same', kernel_initializer=init)(g)\n",
        "  g = InstanceNormalization(axis=-1)(g)\n",
        "  g = Activation('relu')(g)\n",
        "  # d256\n",
        "  g = Conv2D(256, (3,3), strides=(2,2), padding='same', kernel_initializer=init)(g)\n",
        "  g = InstanceNormalization(axis=-1)(g)\n",
        "  g = Activation('relu')(g)\n",
        "  # R256\n",
        "  for _ in range(n_resnet):\n",
        "    g = resnet_block(256, g)\n",
        "  # u128\n",
        "  g = Conv2DTranspose(128, (3,3), strides=(2,2), padding='same', kernel_initializer=init)(g)\n",
        "  g = InstanceNormalization(axis=-1)(g)\n",
        "  g = Activation('relu')(g)\n",
        "  # u64\n",
        "  g = Conv2DTranspose(64, (3,3), strides=(2,2), padding='same', kernel_initializer=init)(g)\n",
        "  g = InstanceNormalization(axis=-1)(g)\n",
        "  g = Activation('relu')(g)\n",
        "  # c7s1-3\n",
        "  g = Conv2D(3, (7,7), padding='same', kernel_initializer=init)(g)\n",
        "  g = InstanceNormalization(axis=-1)(g)\n",
        "  out_image = Activation('tanh')(g)\n",
        "  # define model\n",
        "  model = Model(in_image, out_image)\n",
        "  return model"
      ],
      "execution_count": 0,
      "outputs": []
    },
    {
      "cell_type": "markdown",
      "metadata": {
        "id": "EYskH-v7CKfM",
        "colab_type": "text"
      },
      "source": [
        "## Composite Model"
      ]
    },
    {
      "cell_type": "code",
      "metadata": {
        "id": "pMAi3H8yCMUG",
        "colab_type": "code",
        "colab": {}
      },
      "source": [
        "# define a composite model for updating generators by adversarial and cycle loss\n",
        "def define_composite_model(g_model_1, d_model, g_model_2, image_shape):\n",
        "  # ensure the model we're updating is trainable\n",
        "  g_model_1.trainable = True\n",
        "  # mark discriminator as not trainable\n",
        "  d_model.trainable = False\n",
        "  # mark other generator model as not trainable\n",
        "  g_model_2.trainable = False\n",
        "  # discriminator element\n",
        "  input_gen = Input(shape=image_shape)\n",
        "  gen1_out = g_model_1(input_gen)\n",
        "  output_d = d_model(gen1_out)\n",
        "  # identity element\n",
        "  input_id = Input(shape=image_shape)\n",
        "  output_id = g_model_1(input_id)\n",
        "  # forward cycle\n",
        "  output_f = g_model_2(gen1_out)\n",
        "  # backward cycle\n",
        "  gen2_out = g_model_2(input_id)\n",
        "  output_b = g_model_1(gen2_out)\n",
        "  # define model graph\n",
        "  model = Model([input_gen, input_id], [output_d, output_id, output_f, output_b])\n",
        "  # define optimization algorithm configuration\n",
        "  opt = Adam(lr=0.0002, beta_1=0.5)\n",
        "  # compile model with weighting of least squares loss and L1 loss\n",
        "  model.compile(loss=['mse', 'mae', 'mae', 'mae'], loss_weights=[1, 5, 10, 10], optimizer=opt)\n",
        "  return model"
      ],
      "execution_count": 0,
      "outputs": []
    },
    {
      "cell_type": "markdown",
      "metadata": {
        "id": "s1HBEupvDJFJ",
        "colab_type": "text"
      },
      "source": [
        "## Load Real Samples"
      ]
    },
    {
      "cell_type": "code",
      "metadata": {
        "id": "hLqAMe4uDKgP",
        "colab_type": "code",
        "colab": {}
      },
      "source": [
        "# load and prepare training images\n",
        "def load_real_samples(filename):\n",
        "  # load the dataset\n",
        "  data = load(filename)\n",
        "  # unpack arrays\n",
        "  X1, X2 = data['arr_0'], data['arr_1']\n",
        "  # scale from [0,255] to [-1,1]\n",
        "  X1 = (X1 - 127.5) / 127.5\n",
        "  X2 = (X2 - 127.5) / 127.5\n",
        "  return [X1, X2]"
      ],
      "execution_count": 0,
      "outputs": []
    },
    {
      "cell_type": "markdown",
      "metadata": {
        "id": "cDejE3CsDfJ5",
        "colab_type": "text"
      },
      "source": [
        "## Generate real/fake samples"
      ]
    },
    {
      "cell_type": "code",
      "metadata": {
        "id": "DuLaXtQjDh2W",
        "colab_type": "code",
        "colab": {}
      },
      "source": [
        "# select a batch of random samples, returns images and target\n",
        "def generate_real_samples(dataset, n_samples, patch_shape):\n",
        "  # choose random_instances\n",
        "  ix = randint(0, dataset.shape[0], n_samples)\n",
        "  # retrieve selected images\n",
        "  X = dataset[ix]\n",
        "  # generate 'real' class labels (1)\n",
        "  y = ones((n_samples, patch_shape, patch_shape, 1))\n",
        "  return X, y"
      ],
      "execution_count": 0,
      "outputs": []
    },
    {
      "cell_type": "code",
      "metadata": {
        "id": "TZV5YA9uD2Wy",
        "colab_type": "code",
        "colab": {}
      },
      "source": [
        "# generate a batch of images, returns images and targets\n",
        "def generate_fake_samples(g_model, dataset, patch_shape):\n",
        "  # generate fake instance\n",
        "  X = g_model.predict(dataset)\n",
        "  # create 'fake' class labels (0)\n",
        "  y = zeros((len(X), patch_shape, patch_shape, 1))\n",
        "  return X, y"
      ],
      "execution_count": 0,
      "outputs": []
    },
    {
      "cell_type": "markdown",
      "metadata": {
        "id": "xcd6Hdd9ELuD",
        "colab_type": "text"
      },
      "source": [
        "## Save Model / Summarize Performance"
      ]
    },
    {
      "cell_type": "code",
      "metadata": {
        "id": "5ZPaeTVSEK6p",
        "colab_type": "code",
        "colab": {}
      },
      "source": [
        "# save the generator models to file\n",
        "def save_models(step, g_model_AtoB, g_model_BtoA):\n",
        "  # save the first generator model\n",
        "  filename1 = 'g_model_AtoB_%06d.h5' % (step+1)\n",
        "  g_model_AtoB.save(filename1)\n",
        "  # save the second generator model\n",
        "  filename2 = 'g_model_BtoA_%06d.h5' % (step+1)\n",
        "  g_model_BtoA.save(filename2)\n",
        "  print('>Saved: %s and %s' % (filename1, filename2))"
      ],
      "execution_count": 0,
      "outputs": []
    },
    {
      "cell_type": "code",
      "metadata": {
        "id": "LTE6P6dPEpEc",
        "colab_type": "code",
        "colab": {}
      },
      "source": [
        "# generate samples and save as a plot and save the model\n",
        "def summarize_performance(step, g_model, trainX, name, n_samples=5):\n",
        "  # select a sample of input images\n",
        "  X_in, _ = generate_real_samples(trainX, n_samples, 0)\n",
        "  # generate translated images\n",
        "  X_out, _ = generate_fake_samples(g_model, X_in, 0)\n",
        "  # scale all pixels from [-1,1] to [0,1]\n",
        "  X_in = (X_in + 1) / 2.0\n",
        "  X_out = (X_out + 1) / 2.0\n",
        "  # plot real images\n",
        "  for i in range(n_samples):\n",
        "    pyplot.subplot(2, n_samples, 1 + i)\n",
        "    pyplot.axis('off')\n",
        "    pyplot.imshow(X_in[i])\n",
        "  # plot translated image\n",
        "  for i in range(n_samples):\n",
        "    pyplot.subplot(2, n_samples, 1 + n_samples + i)\n",
        "    pyplot.axis('off')\n",
        "    pyplot.imshow(X_out[i])\n",
        "  # save plot to file\n",
        "  filename1 = '%s_generated_plot_%06d.png' % (name, (step+1))\n",
        "  pyplot.savefig(filename1)\n",
        "  pyplot.close()"
      ],
      "execution_count": 0,
      "outputs": []
    },
    {
      "cell_type": "markdown",
      "metadata": {
        "id": "2eTN9Q1gFcZN",
        "colab_type": "text"
      },
      "source": [
        "## Update image pool"
      ]
    },
    {
      "cell_type": "code",
      "metadata": {
        "id": "mC43rITfFdp_",
        "colab_type": "code",
        "colab": {}
      },
      "source": [
        "# update image pool for fake images\n",
        "def update_image_pool(pool, images, max_size=50):\n",
        "  selected = list()\n",
        "  for image in images:\n",
        "    if len(pool) < max_size:\n",
        "      # stock the pool\n",
        "      pool.append(image)\n",
        "      selected.append(image)\n",
        "    elif random() < 0.5:\n",
        "      # use image, but don't add it to the pool\n",
        "      selected.append(image)\n",
        "    else:\n",
        "      # replace an existing image and use replaced image\n",
        "      ix = randint(0, len(pool))\n",
        "      selected.append(pool[ix])\n",
        "      pool[ix] = image\n",
        "  return asarray(selected)"
      ],
      "execution_count": 0,
      "outputs": []
    },
    {
      "cell_type": "markdown",
      "metadata": {
        "id": "qhmVfMQNF644",
        "colab_type": "text"
      },
      "source": [
        "## Train"
      ]
    },
    {
      "cell_type": "code",
      "metadata": {
        "id": "QwIsuf58F8BU",
        "colab_type": "code",
        "colab": {}
      },
      "source": [
        "# train cyclegan models\n",
        "def train(d_model_A, d_model_B, g_model_AtoB, g_model_BtoA, c_model_AtoB, c_model_BtoA, dataset):\n",
        "  # define properties of the training run\n",
        "  n_epochs, n_batch, = 100, 1\n",
        "  # determine the output square shape of the discriminator\n",
        "  n_patch = d_model_A.output_shape[1]\n",
        "  # unpack dataset\n",
        "  trainA, trainB = dataset\n",
        "  # prepare image pool for fakes\n",
        "  poolA, poolB = list(), list()\n",
        "  # calculate the number of batches per training epoch\n",
        "  bat_per_epo = int(len(trainA) / n_batch)\n",
        "  # calculate the number of training iterations\n",
        "  n_steps = bat_per_epo * n_epochs\n",
        "  # manually enumerate epochs\n",
        "  for i in range(n_steps):\n",
        "    # select a batch of real samples\n",
        "    X_realA, y_realA = generate_real_samples(trainA, n_batch, n_patch)\n",
        "    X_realB, y_realB = generate_real_samples(trainB, n_batch, n_patch)\n",
        "    # generate a batch of fake samples\n",
        "    X_fakeA, y_fakeA = generate_fake_samples(g_model_BtoA, X_realB, n_patch)\n",
        "    X_fakeB, y_fakeB = generate_fake_samples(g_model_AtoB, X_realA, n_patch)\n",
        "    # update fakes from pool\n",
        "    X_fakeA = update_image_pool(poolA, X_fakeA)\n",
        "    X_fakeB = update_image_pool(poolB, X_fakeB)\n",
        "    # update generator B->A via adversarial and cycle loss\n",
        "    g_loss2, _, _, _, _ = c_model_BtoA.train_on_batch([X_realB, X_realA], [y_realA, X_realA, X_realB, X_realA])\n",
        "    # update discriminator for A -> [real/fake]\n",
        "    dA_loss1 = d_model_A.train_on_batch(X_realA, y_realA)\n",
        "    dA_loss2 = d_model_A.train_on_batch(X_fakeA, y_fakeA)\n",
        "    # update generator A->B via adversarial and cycle loss\n",
        "    g_loss1, _, _, _, _ = c_model_AtoB.train_on_batch([X_realA, X_realB], [y_realB, X_realB, X_realA, X_realB])\n",
        "    # update discriminator for B -> [real/fake]\n",
        "    dB_loss1 = d_model_B.train_on_batch(X_realB, y_realB)\n",
        "    dB_loss2 = d_model_B.train_on_batch(X_fakeB, y_fakeB)\n",
        "    # summarize performance\n",
        "    print('>%d, dA[%.3f,%.3f] dB[%.3f,%.3f] g[%.3f,%.3f]' % (i+1, dA_loss1,dA_loss2, dB_loss1,dB_loss2, g_loss1,g_loss2))\n",
        "    # evaluate the model performance every so often\n",
        "    if (i+1) % (bat_per_epo * 1) == 0:\n",
        "      # plot A->B translation\n",
        "      summarize_performance(i, g_model_AtoB, trainA, 'AtoB')\n",
        "      # plot B->A translation\n",
        "      summarize_performance(i, g_model_BtoA, trainB, 'BtoA')\n",
        "    if (i+1) % (bat_per_epo * 5) == 0:\n",
        "      # save the models\n",
        "      save_models(i, g_model_AtoB, g_model_BtoA)"
      ],
      "execution_count": 0,
      "outputs": []
    },
    {
      "cell_type": "markdown",
      "metadata": {
        "id": "iDK3TJW1TFt1",
        "colab_type": "text"
      },
      "source": [
        "## Select Sample / Show Plot"
      ]
    },
    {
      "cell_type": "code",
      "metadata": {
        "id": "IQ_zg4EITMp5",
        "colab_type": "code",
        "colab": {}
      },
      "source": [
        "# select a random sample of images from the dataset\n",
        "def select_sample(dataset, n_samples):\n",
        "  # choose random instances\n",
        "  ix = randint(0, dataset.shape[0], n_samples)\n",
        "  # retrieve selected images\n",
        "  X = dataset[ix]\n",
        "  return X"
      ],
      "execution_count": 0,
      "outputs": []
    },
    {
      "cell_type": "code",
      "metadata": {
        "id": "wDT5j8egTbcA",
        "colab_type": "code",
        "colab": {}
      },
      "source": [
        "# plot the image, the translation, and the reconstruction\n",
        "def show_plot(imagesX, imagesY1, imagesY2):\n",
        "  images = vstack((imagesX, imagesY1, imagesY2))\n",
        "  titles = ['Real', 'Generated', 'Reconstructed']\n",
        "  # scale from [-1,1] to [0,1]\n",
        "  images = (images + 1) / 2.0\n",
        "  # plot images row by row\n",
        "  for i in range(len(images)):\n",
        "    # define subplot\n",
        "    pyplot.subplot(1, len(images), 1 + i)\n",
        "    # turn off axis\n",
        "    pyplot.axis('off')\n",
        "    # plot raw pixel data\n",
        "    pyplot.imshow(images[i])\n",
        "    # title\n",
        "    pyplot.title(titles[i])\n",
        "  pyplot.show()"
      ],
      "execution_count": 0,
      "outputs": []
    },
    {
      "cell_type": "markdown",
      "metadata": {
        "id": "EE4MLvVrVXkD",
        "colab_type": "text"
      },
      "source": [
        "## Load image"
      ]
    },
    {
      "cell_type": "code",
      "metadata": {
        "id": "_Mxy_I3wVdxO",
        "colab_type": "code",
        "colab": {}
      },
      "source": [
        "# load an image to the preferred size\n",
        "def load_image(filename, size=(256,256)):\n",
        "  # load and resize the image\n",
        "  pixels = load_img(filename, target_size=size)\n",
        "  # convert to numpy array\n",
        "  pixels = img_to_array(pixels)\n",
        "  # transform in a sample\n",
        "  pixels = expand_dims(pixels, 0)\n",
        "  # scale from [0,255] to [-1,1]\n",
        "  pixels = (pixels - 127.5) / 127.5\n",
        "  return pixels"
      ],
      "execution_count": 0,
      "outputs": []
    },
    {
      "cell_type": "markdown",
      "metadata": {
        "id": "5RqDd5TuIySe",
        "colab_type": "text"
      },
      "source": [
        "# Start program"
      ]
    },
    {
      "cell_type": "code",
      "metadata": {
        "id": "kbdALya9I1Vp",
        "colab_type": "code",
        "colab": {}
      },
      "source": [
        "# example of training a cyclegan on the horse2zebra dataset\n",
        "from random import random\n",
        "from numpy import load\n",
        "from numpy import zeros\n",
        "from numpy import ones\n",
        "from numpy import asarray\n",
        "from numpy.random import randint\n",
        "from keras.optimizers import Adam\n",
        "from keras.initializers import RandomNormal\n",
        "from keras.models import Model\n",
        "from keras.models import Input\n",
        "from keras.layers import Conv2D\n",
        "from keras.layers import Conv2DTranspose\n",
        "from keras.layers import LeakyReLU\n",
        "from keras.layers import Activation\n",
        "from keras.layers import Concatenate\n",
        "from keras_contrib.layers.normalization.instancenormalization import InstanceNormalization\n",
        "from matplotlib import pyplot\n",
        "\n",
        "# load image data\n",
        "dataset = load_real_samples('nopool2pool_256.npz')\n",
        "print('Loaded', dataset[0].shape, dataset[1].shape)\n",
        "# define input shape based on the loaded dataset\n",
        "image_shape = dataset[0].shape[1:]\n",
        "# generator: A -> B\n",
        "g_model_AtoB = define_generator(image_shape)\n",
        "# generator: B -> A\n",
        "g_model_BtoA = define_generator(image_shape)\n",
        "# discriminator: A -> [real/fake]\n",
        "d_model_A = define_discriminator(image_shape)\n",
        "# discriminator: B -> [real/fake]\n",
        "d_model_B = define_discriminator(image_shape)\n",
        "# composite: A -> B -> [real/fake, A]\n",
        "c_model_AtoB = define_composite_model(g_model_AtoB, d_model_B, g_model_BtoA, image_shape)\n",
        "# composite: B -> A -> [real/fake, B]\n",
        "c_model_BtoA = define_composite_model(g_model_BtoA, d_model_A, g_model_AtoB, image_shape)\n",
        "# train models\n",
        "train(d_model_A, d_model_B, g_model_AtoB, g_model_BtoA, c_model_AtoB, c_model_BtoA, dataset)"
      ],
      "execution_count": 0,
      "outputs": []
    },
    {
      "cell_type": "code",
      "metadata": {
        "id": "aNqhAXQhUEK6",
        "colab_type": "code",
        "colab": {}
      },
      "source": [
        "# example of using saved cyclegan models for image translation\n",
        "from keras.models import load_model\n",
        "from numpy import load\n",
        "from numpy import vstack\n",
        "from matplotlib import pyplot\n",
        "from numpy.random import randint\n",
        "from keras_contrib.layers.normalization.instancenormalization import InstanceNormalization\n",
        "\n",
        "# load dataset\n",
        "A_data, B_data = load_real_samples('nopool2pool_256.npz')\n",
        "print('Loaded', A_data.shape, B_data.shape)\n",
        "# load the models\n",
        "cust = {'InstanceNormalization': InstanceNormalization}\n",
        "model_AtoB = load_model('g_model_AtoB_XXXXX.h5', cust)\n",
        "model_BtoA = load_model('g_model_BtoA_XXXXX.h5', cust)\n",
        "# plot A->B->A\n",
        "A_real = select_sample(A_data, 1)\n",
        "B_generated = model_AtoB.predict(A_real)\n",
        "A_reconstructed = model_BtoA.predict(B_generated)\n",
        "show_plot(A_real, B_generated, A_reconstructed)\n",
        "# plot B->A->B\n",
        "B_real = select_sample(B_data, 1)\n",
        "A_generated = model_BtoA.predict(B_real)\n",
        "B_reconstructed = model_AtoB.predict(A_generated)\n",
        "show_plot(B_real, A_generated, B_reconstructed)"
      ],
      "execution_count": 0,
      "outputs": []
    },
    {
      "cell_type": "code",
      "metadata": {
        "id": "T3zess5XV4Q7",
        "colab_type": "code",
        "colab": {}
      },
      "source": [
        "# example of using saved cyclegan models for image translation\n",
        "from numpy import load\n",
        "from numpy import expand_dims\n",
        "from keras.models import load_model\n",
        "from keras_contrib.layers.normalization.instancenormalization import InstanceNormalization\n",
        "from keras.preprocessing.image import img_to_array\n",
        "from keras.preprocessing.image import load_img\n",
        "from matplotlib import pyplot\n",
        "\n",
        "# load the image\n",
        "image_src = load_image('nopool2pool/trainX/XXX.jpg')\n",
        "# load the model\n",
        "cust = {'InstanceNormalization': InstanceNormalization}\n",
        "model_AtoB = load_model('g_model_AtoB_XXXXX.h5', cust)\n",
        "# translate image\n",
        "image_tar = model_AtoB.predict(image_src)\n",
        "# scale from [-1,1] to [0,1]\n",
        "image_tar = (image_tar + 1) / 2.0\n",
        "# plot the translated image\n",
        "pyplot.imshow(image_tar[0])\n",
        "pyplot.show()"
      ],
      "execution_count": 0,
      "outputs": []
    }
  ]
}