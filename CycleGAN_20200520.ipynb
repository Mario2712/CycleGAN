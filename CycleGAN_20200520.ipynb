{
  "nbformat": 4,
  "nbformat_minor": 0,
  "metadata": {
    "colab": {
      "name": "CycleGAN_20200520.ipynb",
      "provenance": [],
      "collapsed_sections": [],
      "toc_visible": true,
      "authorship_tag": "ABX9TyNsGR347vOC6qg/LXIQL5rF",
      "include_colab_link": true
    },
    "kernelspec": {
      "name": "python3",
      "display_name": "Python 3"
    },
    "accelerator": "GPU"
  },
  "cells": [
    {
      "cell_type": "markdown",
      "metadata": {
        "id": "view-in-github",
        "colab_type": "text"
      },
      "source": [
        "<a href=\"https://colab.research.google.com/github/Mario2712/CycleGAN/blob/master/CycleGAN_20200520.ipynb\" target=\"_parent\"><img src=\"https://colab.research.google.com/assets/colab-badge.svg\" alt=\"Open In Colab\"/></a>"
      ]
    },
    {
      "cell_type": "markdown",
      "metadata": {
        "id": "T6tRDIn_ZSeY",
        "colab_type": "text"
      },
      "source": [
        "## Re-Connect"
      ]
    },
    {
      "cell_type": "code",
      "metadata": {
        "id": "ahp4V9CdwFc4",
        "colab_type": "code",
        "outputId": "c8039980-3875-4487-f678-49e9c6db4961",
        "colab": {
          "base_uri": "https://localhost:8080/",
          "height": 34
        }
      },
      "source": [
        "#Prevent random disconnects\n",
        "import IPython\n",
        "from google.colab import output\n",
        "\n",
        "display(IPython.display.Javascript('''\n",
        " function ClickConnect(){\n",
        "   btn = document.querySelector(\"colab-connect-button\")\n",
        "   if (btn != null){\n",
        "     console.log(\"Click colab-connect-button\"); \n",
        "     btn.click() \n",
        "     }\n",
        "   \n",
        "   btn = document.getElementById('ok')\n",
        "   if (btn != null){\n",
        "     console.log(\"Click reconnect\"); \n",
        "     btn.click() \n",
        "     }\n",
        "  }\n",
        "  \n",
        "setInterval(ClickConnect,60000)\n",
        "'''))\n",
        "\n",
        "print(\"Done.\")"
      ],
      "execution_count": 3,
      "outputs": [
        {
          "output_type": "display_data",
          "data": {
            "application/javascript": [
              "\n",
              " function ClickConnect(){\n",
              "   btn = document.querySelector(\"colab-connect-button\")\n",
              "   if (btn != null){\n",
              "     console.log(\"Click colab-connect-button\"); \n",
              "     btn.click() \n",
              "     }\n",
              "   \n",
              "   btn = document.getElementById('ok')\n",
              "   if (btn != null){\n",
              "     console.log(\"Click reconnect\"); \n",
              "     btn.click() \n",
              "     }\n",
              "  }\n",
              "  \n",
              "setInterval(ClickConnect,60000)\n"
            ],
            "text/plain": [
              "<IPython.core.display.Javascript object>"
            ]
          },
          "metadata": {
            "tags": []
          }
        },
        {
          "output_type": "stream",
          "text": [
            "Done.\n"
          ],
          "name": "stdout"
        }
      ]
    },
    {
      "cell_type": "markdown",
      "metadata": {
        "id": "khkusjncZWVI",
        "colab_type": "text"
      },
      "source": [
        "## Prüfen auf GPU"
      ]
    },
    {
      "cell_type": "code",
      "metadata": {
        "id": "Jy6YY29vwT3g",
        "colab_type": "code",
        "outputId": "59a4712f-e193-4378-aa5e-24510b009b0a",
        "colab": {
          "base_uri": "https://localhost:8080/",
          "height": 302
        }
      },
      "source": [
        "!nvidia-smi"
      ],
      "execution_count": 4,
      "outputs": [
        {
          "output_type": "stream",
          "text": [
            "Mon May 25 05:32:16 2020       \n",
            "+-----------------------------------------------------------------------------+\n",
            "| NVIDIA-SMI 440.82       Driver Version: 418.67       CUDA Version: 10.1     |\n",
            "|-------------------------------+----------------------+----------------------+\n",
            "| GPU  Name        Persistence-M| Bus-Id        Disp.A | Volatile Uncorr. ECC |\n",
            "| Fan  Temp  Perf  Pwr:Usage/Cap|         Memory-Usage | GPU-Util  Compute M. |\n",
            "|===============================+======================+======================|\n",
            "|   0  Tesla P100-PCIE...  Off  | 00000000:00:04.0 Off |                    0 |\n",
            "| N/A   33C    P0    26W / 250W |      0MiB / 16280MiB |      0%      Default |\n",
            "+-------------------------------+----------------------+----------------------+\n",
            "                                                                               \n",
            "+-----------------------------------------------------------------------------+\n",
            "| Processes:                                                       GPU Memory |\n",
            "|  GPU       PID   Type   Process name                             Usage      |\n",
            "|=============================================================================|\n",
            "|  No running processes found                                                 |\n",
            "+-----------------------------------------------------------------------------+\n"
          ],
          "name": "stdout"
        }
      ]
    },
    {
      "cell_type": "markdown",
      "metadata": {
        "id": "SIRlzj1BZbL1",
        "colab_type": "text"
      },
      "source": [
        "## Mount Google Drive\n"
      ]
    },
    {
      "cell_type": "code",
      "metadata": {
        "id": "7LH5z0vYRpA-",
        "colab_type": "code",
        "outputId": "51308a68-7a0d-4180-a427-b83150641fce",
        "colab": {
          "base_uri": "https://localhost:8080/",
          "height": 121
        }
      },
      "source": [
        "#Mount Google Drive as folder\n",
        "from google.colab import drive\n",
        "drive.mount('/content/drive', force_remount=True)"
      ],
      "execution_count": 1,
      "outputs": [
        {
          "output_type": "stream",
          "text": [
            "Go to this URL in a browser: https://accounts.google.com/o/oauth2/auth?client_id=947318989803-6bn6qk8qdgf4n4g3pfee6491hc0brc4i.apps.googleusercontent.com&redirect_uri=urn%3aietf%3awg%3aoauth%3a2.0%3aoob&response_type=code&scope=email%20https%3a%2f%2fwww.googleapis.com%2fauth%2fdocs.test%20https%3a%2f%2fwww.googleapis.com%2fauth%2fdrive%20https%3a%2f%2fwww.googleapis.com%2fauth%2fdrive.photos.readonly%20https%3a%2f%2fwww.googleapis.com%2fauth%2fpeopleapi.readonly\n",
            "\n",
            "Enter your authorization code:\n",
            "··········\n",
            "Mounted at /content/drive\n"
          ],
          "name": "stdout"
        }
      ]
    },
    {
      "cell_type": "code",
      "metadata": {
        "id": "zK9-2jUVSwvA",
        "colab_type": "code",
        "colab": {}
      },
      "source": [
        "!cp '/content/drive/My Drive/nopool2pool_256.npz' '/content'"
      ],
      "execution_count": 0,
      "outputs": []
    },
    {
      "cell_type": "code",
      "metadata": {
        "id": "y7ZNtQteYh2y",
        "colab_type": "code",
        "colab": {}
      },
      "source": [
        "def copy_to_colab(path, count):\n",
        "  path = \"/content\"\n",
        "  %cd $path\n",
        "  count_str = '%06d' % count\n",
        "  copy_cmd = \"/content/drive/My\\ Drive/g_model_AtoB_\"+count_str+\".h5 \"+path\n",
        "  !cp $copy_cmd\n",
        "\n",
        "  copy_cmd = \"/content/drive/My\\ Drive/g_model_BtoA_\"+count_str+\".h5 \"+path\n",
        "  !cp $copy_cmd"
      ],
      "execution_count": 0,
      "outputs": []
    },
    {
      "cell_type": "code",
      "metadata": {
        "id": "_wLcPlyjaU7T",
        "colab_type": "code",
        "colab": {}
      },
      "source": [
        "copy_to_colab(\"/content\", 805)"
      ],
      "execution_count": 0,
      "outputs": []
    },
    {
      "cell_type": "code",
      "metadata": {
        "id": "yshtQOWKar2Z",
        "colab_type": "code",
        "colab": {}
      },
      "source": [
        "def copy_to_drive(path, count):\n",
        "  path = \"/content\"\n",
        "  %cd $path\n",
        "  count_str = '%06d' % count\n",
        "  copy_cmd = \"g_model_AtoB_\"+count_str+\".h5 /content/drive/My\\ Drive/\"\n",
        "  !cp $copy_cmd\n",
        "\n",
        "  copy_cmd = \"g_model_BtoA_\"+count_str+\".h5 /content/drive/My\\ Drive/\"\n",
        "  !cp $copy_cmd"
      ],
      "execution_count": 0,
      "outputs": []
    },
    {
      "cell_type": "markdown",
      "metadata": {
        "id": "Sx1n6fAZ5T4V",
        "colab_type": "text"
      },
      "source": [
        "## Import Data"
      ]
    },
    {
      "cell_type": "code",
      "metadata": {
        "id": "BaJIkF5O5S5T",
        "colab_type": "code",
        "outputId": "26289043-3a86-4c08-82d8-27b432771f64",
        "colab": {
          "base_uri": "https://localhost:8080/",
          "height": 67
        }
      },
      "source": [
        "# example of preparing the horses and zebra ddataset\n",
        "from os import listdir\n",
        "from numpy import asarray\n",
        "from numpy import vstack\n",
        "from keras.preprocessing.image import img_to_array\n",
        "from keras.preprocessing.image import load_img\n",
        "from numpy import savez_compressed\n",
        "\n",
        "# load all images in a directory into memory\n",
        "def load_images(path, size=(256,256)):\n",
        "  data_list = list()\n",
        "  # enumerate filenames in directory, assume all are images\n",
        "  for filename in listdir(path):\n",
        "    # load and resize the image\n",
        "    pixels = load_img(path + filename, target_size=size)\n",
        "    # convert to numpy array\n",
        "    pixels = img_to_array(pixels)\n",
        "    # store\n",
        "    data_list.append(pixels)\n",
        "  return asarray(data_list)\n",
        "\n",
        "# dataset path\n",
        "path = '/content/nopool2pool/'\n",
        "# load dataset A\n",
        "dataA1 = load_images(path + 'trainA/')\n",
        "dataAB = load_images(path + 'testA/')\n",
        "dataA = vstack((dataA1, dataAB))\n",
        "print('Loaded dataA: ', dataA.shape)\n",
        "# load dataset B\n",
        "dataB1 = load_images(path + 'trainB/')\n",
        "dataB2 = load_images(path + 'testB/')\n",
        "dataB = vstack((dataB1, dataB2))\n",
        "print('Loaded dataB: ', dataB.shape)\n",
        "# save as compressed numpy array\n",
        "filename = 'nopool2pool_256.npz'\n",
        "savez_compressed(filename, dataA, dataB)\n",
        "print('Saved dataset: ', filename)"
      ],
      "execution_count": 0,
      "outputs": [
        {
          "output_type": "stream",
          "text": [
            "Loaded dataA:  (805, 256, 256, 3)\n",
            "Loaded dataB:  (36, 256, 256, 3)\n",
            "Saved dataset:  nopool2pool_256.npz\n"
          ],
          "name": "stdout"
        }
      ]
    },
    {
      "cell_type": "markdown",
      "metadata": {
        "id": "_XALw2mR9yAg",
        "colab_type": "text"
      },
      "source": [
        "## Load Dataset / Show"
      ]
    },
    {
      "cell_type": "code",
      "metadata": {
        "id": "D7Pmq0I591iw",
        "colab_type": "code",
        "outputId": "bd87289f-5081-4eb8-baa7-6074fb5cb885",
        "colab": {
          "base_uri": "https://localhost:8080/",
          "height": 265
        }
      },
      "source": [
        "# load and plot the prepared dataset\n",
        "from numpy import load\n",
        "from matplotlib import pyplot\n",
        "# load the dataset\n",
        "data = load('nopool2pool_256.npz')\n",
        "dataA, dataB = data['arr_0'], data['arr_1']\n",
        "print('Loaded: ', dataA.shape, dataB.shape)\n",
        "# plot source images\n",
        "n_samples = 3\n",
        "for i in range(n_samples):\n",
        "  pyplot.subplot(2, n_samples, 1 + i)\n",
        "  pyplot.axis('off')\n",
        "  pyplot.imshow(dataA[i].astype('uint8'))\n",
        "# plot target image\n",
        "for i in range(n_samples):\n",
        "  pyplot.subplot(2, n_samples, 1 + n_samples + i)\n",
        "  pyplot.axis('off')\n",
        "  pyplot.imshow(dataB[i].astype('uint8'))\n",
        "pyplot.show()"
      ],
      "execution_count": 0,
      "outputs": [
        {
          "output_type": "stream",
          "text": [
            "Loaded:  (805, 256, 256, 3) (36, 256, 256, 3)\n"
          ],
          "name": "stdout"
        },
        {
          "output_type": "display_data",
          "data": {
            "image/png": "[encoded data removed]",
            "text/plain": [
              "<Figure size 432x288 with 6 Axes>"
            ]
          },
          "metadata": {
            "tags": [],
            "needs_background": "light"
          }
        }
      ]
    },
    {
      "cell_type": "markdown",
      "metadata": {
        "id": "utq_K22D-oW2",
        "colab_type": "text"
      },
      "source": [
        "## Keras-Contrib"
      ]
    },
    {
      "cell_type": "code",
      "metadata": {
        "id": "EZtZe95N-qcA",
        "colab_type": "code",
        "outputId": "cefe6ed2-cb2e-417f-803b-4a6f12553f1d",
        "colab": {
          "base_uri": "https://localhost:8080/",
          "height": 339
        }
      },
      "source": [
        "!pip install git+https://www.github.com/keras-team/keras-contrib.git"
      ],
      "execution_count": 7,
      "outputs": [
        {
          "output_type": "stream",
          "text": [
            "Collecting git+https://www.github.com/keras-team/keras-contrib.git\n",
            "  Cloning https://www.github.com/keras-team/keras-contrib.git to /tmp/pip-req-build-5uz7574m\n",
            "  Running command git clone -q https://www.github.com/keras-team/keras-contrib.git /tmp/pip-req-build-5uz7574m\n",
            "Requirement already satisfied: keras in /usr/local/lib/python3.6/dist-packages (from keras-contrib==2.0.8) (2.3.1)\n",
            "Requirement already satisfied: scipy>=0.14 in /usr/local/lib/python3.6/dist-packages (from keras->keras-contrib==2.0.8) (1.4.1)\n",
            "Requirement already satisfied: numpy>=1.9.1 in /usr/local/lib/python3.6/dist-packages (from keras->keras-contrib==2.0.8) (1.18.4)\n",
            "Requirement already satisfied: pyyaml in /usr/local/lib/python3.6/dist-packages (from keras->keras-contrib==2.0.8) (3.13)\n",
            "Requirement already satisfied: h5py in /usr/local/lib/python3.6/dist-packages (from keras->keras-contrib==2.0.8) (2.10.0)\n",
            "Requirement already satisfied: six>=1.9.0 in /usr/local/lib/python3.6/dist-packages (from keras->keras-contrib==2.0.8) (1.12.0)\n",
            "Requirement already satisfied: keras-applications>=1.0.6 in /usr/local/lib/python3.6/dist-packages (from keras->keras-contrib==2.0.8) (1.0.8)\n",
            "Requirement already satisfied: keras-preprocessing>=1.0.5 in /usr/local/lib/python3.6/dist-packages (from keras->keras-contrib==2.0.8) (1.1.2)\n",
            "Building wheels for collected packages: keras-contrib\n",
            "  Building wheel for keras-contrib (setup.py) ... \u001b[?25l\u001b[?25hdone\n",
            "  Created wheel for keras-contrib: filename=keras_contrib-2.0.8-cp36-none-any.whl size=101064 sha256=260601a12d0d9d0ee912b595fbb0d27f7651deef1d25048e5cb43098d46dc710\n",
            "  Stored in directory: /tmp/pip-ephem-wheel-cache-lb0ye91v/wheels/11/27/c8/4ed56de7b55f4f61244e2dc6ef3cdbaff2692527a2ce6502ba\n",
            "Successfully built keras-contrib\n",
            "Installing collected packages: keras-contrib\n",
            "Successfully installed keras-contrib-2.0.8\n"
          ],
          "name": "stdout"
        }
      ]
    },
    {
      "cell_type": "markdown",
      "metadata": {
        "id": "kZT8vixY-zaC",
        "colab_type": "text"
      },
      "source": [
        "## Discriminator"
      ]
    },
    {
      "cell_type": "code",
      "metadata": {
        "id": "w_WUK3ij-1WT",
        "colab_type": "code",
        "colab": {}
      },
      "source": [
        "# define the discriminator model\n",
        "def define_discriminator(image_shape):\n",
        "  # weight initialization\n",
        "  init = RandomNormal(stddev=0.02)\n",
        "  # source image input\n",
        "  in_image = Input(shape=image_shape)\n",
        "  # C64\n",
        "  d = Conv2D(64, (4,4), strides=(2,2), padding='same', kernel_initializer=init)(in_image)\n",
        "  d = LeakyReLU(alpha=0.2)(d)\n",
        "  # C128\n",
        "  d = Conv2D(128, (4,4), strides=(2,2), padding='same', kernel_initializer=init)(d)\n",
        "  d = InstanceNormalization(axis=-1)(d)\n",
        "  d = LeakyReLU(alpha=0.2)(d)\n",
        "  # C256\n",
        "  d = Conv2D(256, (4,4), strides=(2,2), padding='same', kernel_initializer=init)(d)\n",
        "  d = InstanceNormalization(axis=-1)(d)\n",
        "  d = LeakyReLU(alpha=0.2)(d)\n",
        "  # C512\n",
        "  d = Conv2D(512, (4,4), strides=(2,2), padding='same', kernel_initializer=init)(d)\n",
        "  d = InstanceNormalization(axis=-1)(d)\n",
        "  d = LeakyReLU(alpha=0.2)(d)\n",
        "  # second last output layer\n",
        "  d = Conv2D(512, (4,4), padding='same', kernel_initializer=init)(d)\n",
        "  d = InstanceNormalization(axis=-1)(d)\n",
        "  d = LeakyReLU(alpha=0.2)(d)\n",
        "  # patch output\n",
        "  patch_out = Conv2D(1, (4,4), padding='same', kernel_initializer=init)(d)\n",
        "  # define model\n",
        "  model = Model(in_image, patch_out)\n",
        "  # compile model\n",
        "  model.compile(loss='mse', optimizer=Adam(lr=0.00005, beta_1=0.5), loss_weights=[0.5])\n",
        "  return model"
      ],
      "execution_count": 0,
      "outputs": []
    },
    {
      "cell_type": "markdown",
      "metadata": {
        "id": "SlVk8zN1ATVR",
        "colab_type": "text"
      },
      "source": [
        "## Generator"
      ]
    },
    {
      "cell_type": "code",
      "metadata": {
        "id": "Vi1gzwAfAUaI",
        "colab_type": "code",
        "colab": {}
      },
      "source": [
        "# generator a resnet block\n",
        "def resnet_block(n_filters, input_layer):\n",
        "  # weight initialization\n",
        "  init = RandomNormal(stddev=0.02)\n",
        "  # first layer convolutional layer\n",
        "  g = Conv2D(n_filters, (3,3), padding='same', kernel_initializer=init)(input_layer)\n",
        "  g = InstanceNormalization(axis=-1)(g)\n",
        "  g = Activation('relu')(g)\n",
        "  # second convolutional layer\n",
        "  g = Conv2D(n_filters, (3,3), padding='same', kernel_initializer=init)(g)\n",
        "  g = InstanceNormalization(axis=-1)(g)\n",
        "  # concatenate merge channel-wise with input layer\n",
        "  g = Concatenate()([g, input_layer])\n",
        "  return g"
      ],
      "execution_count": 0,
      "outputs": []
    },
    {
      "cell_type": "code",
      "metadata": {
        "id": "3UYDLRIHA4XD",
        "colab_type": "code",
        "colab": {}
      },
      "source": [
        "# define the standalone generator model\n",
        "def define_generator(image_shape, n_resnet=9):\n",
        "  # weight initialization\n",
        "  init = RandomNormal(stddev=0.02)\n",
        "  # image input\n",
        "  in_image = Input(shape=image_shape)\n",
        "  # c7s1-64\n",
        "  g = Conv2D(64, (7,7), padding='same', kernel_initializer=init)(in_image)\n",
        "  g = InstanceNormalization(axis=-1)(g)\n",
        "  g = Activation('relu')(g)\n",
        "  # d128\n",
        "  g = Conv2D(128, (3,3), strides=(2,2), padding='same', kernel_initializer=init)(g)\n",
        "  g = InstanceNormalization(axis=-1)(g)\n",
        "  g = Activation('relu')(g)\n",
        "  # d256\n",
        "  g = Conv2D(256, (3,3), strides=(2,2), padding='same', kernel_initializer=init)(g)\n",
        "  g = InstanceNormalization(axis=-1)(g)\n",
        "  g = Activation('relu')(g)\n",
        "  # R256\n",
        "  for _ in range(n_resnet):\n",
        "    g = resnet_block(256, g)\n",
        "  # u128\n",
        "  g = Conv2DTranspose(128, (3,3), strides=(2,2), padding='same', kernel_initializer=init)(g)\n",
        "  g = InstanceNormalization(axis=-1)(g)\n",
        "  g = Activation('relu')(g)\n",
        "  # u64\n",
        "  g = Conv2DTranspose(64, (3,3), strides=(2,2), padding='same', kernel_initializer=init)(g)\n",
        "  g = InstanceNormalization(axis=-1)(g)\n",
        "  g = Activation('relu')(g)\n",
        "  # c7s1-3\n",
        "  g = Conv2D(3, (7,7), padding='same', kernel_initializer=init)(g)\n",
        "  g = InstanceNormalization(axis=-1)(g)\n",
        "  out_image = Activation('tanh')(g)\n",
        "  # define model\n",
        "  model = Model(in_image, out_image)\n",
        "  return model"
      ],
      "execution_count": 0,
      "outputs": []
    },
    {
      "cell_type": "markdown",
      "metadata": {
        "id": "EYskH-v7CKfM",
        "colab_type": "text"
      },
      "source": [
        "## Composite Model"
      ]
    },
    {
      "cell_type": "code",
      "metadata": {
        "id": "pMAi3H8yCMUG",
        "colab_type": "code",
        "colab": {}
      },
      "source": [
        "# define a composite model for updating generators by adversarial and cycle loss\n",
        "def define_composite_model(g_model_1, d_model, g_model_2, image_shape):\n",
        "  # ensure the model we're updating is trainable\n",
        "  g_model_1.trainable = True\n",
        "  # mark discriminator as not trainable\n",
        "  d_model.trainable = False\n",
        "  # mark other generator model as not trainable\n",
        "  g_model_2.trainable = False\n",
        "  # discriminator element\n",
        "  input_gen = Input(shape=image_shape)\n",
        "  gen1_out = g_model_1(input_gen)\n",
        "  output_d = d_model(gen1_out)\n",
        "  # identity element\n",
        "  input_id = Input(shape=image_shape)\n",
        "  output_id = g_model_1(input_id)\n",
        "  # forward cycle\n",
        "  output_f = g_model_2(gen1_out)\n",
        "  # backward cycle\n",
        "  gen2_out = g_model_2(input_id)\n",
        "  output_b = g_model_1(gen2_out)\n",
        "  # define model graph\n",
        "  model = Model([input_gen, input_id], [output_d, output_id, output_f, output_b])\n",
        "  # define optimization algorithm configuration\n",
        "  opt = Adam(lr=0.0002, beta_1=0.5)\n",
        "  # compile model with weighting of least squares loss and L1 loss\n",
        "  model.compile(loss=['mse', 'mae', 'mae', 'mae'], loss_weights=[1, 5, 10, 10], optimizer=opt)\n",
        "  return model"
      ],
      "execution_count": 0,
      "outputs": []
    },
    {
      "cell_type": "markdown",
      "metadata": {
        "id": "s1HBEupvDJFJ",
        "colab_type": "text"
      },
      "source": [
        "## Load Real Samples"
      ]
    },
    {
      "cell_type": "code",
      "metadata": {
        "id": "hLqAMe4uDKgP",
        "colab_type": "code",
        "colab": {}
      },
      "source": [
        "# load and prepare training images\n",
        "def load_real_samples(filename):\n",
        "  # load the dataset\n",
        "  data = load(filename)\n",
        "  # unpack arrays\n",
        "  X1, X2 = data['arr_0'], data['arr_1']\n",
        "  # scale from [0,255] to [-1,1]\n",
        "  X1 = (X1 - 127.5) / 127.5\n",
        "  X2 = (X2 - 127.5) / 127.5\n",
        "  return [X1, X2]"
      ],
      "execution_count": 0,
      "outputs": []
    },
    {
      "cell_type": "markdown",
      "metadata": {
        "id": "cDejE3CsDfJ5",
        "colab_type": "text"
      },
      "source": [
        "## Generate real/fake samples"
      ]
    },
    {
      "cell_type": "code",
      "metadata": {
        "id": "DuLaXtQjDh2W",
        "colab_type": "code",
        "colab": {}
      },
      "source": [
        "# select a batch of random samples, returns images and target\n",
        "def generate_real_samples(dataset, n_samples, patch_shape):\n",
        "  # choose random_instances\n",
        "  ix = randint(0, dataset.shape[0], n_samples)\n",
        "  # retrieve selected images\n",
        "  X = dataset[ix]\n",
        "  # generate 'real' class labels (1)\n",
        "  y = ones((n_samples, patch_shape, patch_shape, 1))\n",
        "  return X, y"
      ],
      "execution_count": 0,
      "outputs": []
    },
    {
      "cell_type": "code",
      "metadata": {
        "id": "TZV5YA9uD2Wy",
        "colab_type": "code",
        "colab": {}
      },
      "source": [
        "# generate a batch of images, returns images and targets\n",
        "def generate_fake_samples(g_model, dataset, patch_shape):\n",
        "  # generate fake instance\n",
        "  X = g_model.predict(dataset)\n",
        "  # create 'fake' class labels (0)\n",
        "  y = zeros((len(X), patch_shape, patch_shape, 1))\n",
        "  return X, y"
      ],
      "execution_count": 0,
      "outputs": []
    },
    {
      "cell_type": "markdown",
      "metadata": {
        "id": "xcd6Hdd9ELuD",
        "colab_type": "text"
      },
      "source": [
        "## Save Model / Summarize Performance"
      ]
    },
    {
      "cell_type": "code",
      "metadata": {
        "id": "5ZPaeTVSEK6p",
        "colab_type": "code",
        "colab": {}
      },
      "source": [
        "# save the generator models to file\n",
        "def save_models(step, g_model_AtoB, g_model_BtoA):\n",
        "  # save the first generator model\n",
        "  filename1 = 'g_model_AtoB_%06d.h5' % (step+1)\n",
        "  g_model_AtoB.save(filename1)\n",
        "  # save the second generator model\n",
        "  filename2 = 'g_model_BtoA_%06d.h5' % (step+1)\n",
        "  g_model_BtoA.save(filename2)\n",
        "  print('>Saved: %s and %s' % (filename1, filename2))\n",
        "  copy_to_drive(\"/content\",(step+1))"
      ],
      "execution_count": 0,
      "outputs": []
    },
    {
      "cell_type": "code",
      "metadata": {
        "id": "LTE6P6dPEpEc",
        "colab_type": "code",
        "colab": {}
      },
      "source": [
        "# generate samples and save as a plot and save the model\n",
        "def summarize_performance(step, g_model, trainX, name, n_samples=5):\n",
        "  # select a sample of input images\n",
        "  X_in, _ = generate_real_samples(trainX, n_samples, 0)\n",
        "  # generate translated images\n",
        "  X_out, _ = generate_fake_samples(g_model, X_in, 0)\n",
        "  # scale all pixels from [-1,1] to [0,1]\n",
        "  X_in = (X_in + 1) / 2.0\n",
        "  X_out = (X_out + 1) / 2.0\n",
        "  # plot real images\n",
        "  for i in range(n_samples):\n",
        "    pyplot.subplot(2, n_samples, 1 + i)\n",
        "    pyplot.axis('off')\n",
        "    pyplot.imshow(X_in[i])\n",
        "  # plot translated image\n",
        "  for i in range(n_samples):\n",
        "    pyplot.subplot(2, n_samples, 1 + n_samples + i)\n",
        "    pyplot.axis('off')\n",
        "    pyplot.imshow(X_out[i])\n",
        "  # save plot to file\n",
        "  filename1 = '%s_generated_plot_%06d.png' % (name, (step+1))\n",
        "  pyplot.savefig(filename1)\n",
        "  pyplot.close()"
      ],
      "execution_count": 0,
      "outputs": []
    },
    {
      "cell_type": "markdown",
      "metadata": {
        "id": "2eTN9Q1gFcZN",
        "colab_type": "text"
      },
      "source": [
        "## Update image pool"
      ]
    },
    {
      "cell_type": "code",
      "metadata": {
        "id": "mC43rITfFdp_",
        "colab_type": "code",
        "colab": {}
      },
      "source": [
        "# update image pool for fake images\n",
        "def update_image_pool(pool, images, max_size=50):\n",
        "  selected = list()\n",
        "  for image in images:\n",
        "    if len(pool) < max_size:\n",
        "      # stock the pool\n",
        "      pool.append(image)\n",
        "      selected.append(image)\n",
        "    elif random() < 0.5:\n",
        "      # use image, but don't add it to the pool\n",
        "      selected.append(image)\n",
        "    else:\n",
        "      # replace an existing image and use replaced image\n",
        "      ix = randint(0, len(pool))\n",
        "      selected.append(pool[ix])\n",
        "      pool[ix] = image\n",
        "  return asarray(selected)"
      ],
      "execution_count": 0,
      "outputs": []
    },
    {
      "cell_type": "markdown",
      "metadata": {
        "id": "qhmVfMQNF644",
        "colab_type": "text"
      },
      "source": [
        "## Train"
      ]
    },
    {
      "cell_type": "code",
      "metadata": {
        "id": "QwIsuf58F8BU",
        "colab_type": "code",
        "colab": {}
      },
      "source": [
        "# train cyclegan models\n",
        "def train(d_model_A, d_model_B, g_model_AtoB, g_model_BtoA, c_model_AtoB, c_model_BtoA, dataset):\n",
        "  # define properties of the training run\n",
        "  n_epochs, n_batch, = 100, 1\n",
        "  # determine the output square shape of the discriminator\n",
        "  n_patch = d_model_A.output_shape[1]\n",
        "  # unpack dataset\n",
        "  trainA, trainB = dataset\n",
        "  # prepare image pool for fakes\n",
        "  poolA, poolB = list(), list()\n",
        "  # calculate the number of batches per training epoch\n",
        "  bat_per_epo = int(len(trainA) / n_batch)\n",
        "  # calculate the number of training iterations\n",
        "  n_steps = bat_per_epo * n_epochs\n",
        "  # manually enumerate epochs\n",
        "  for i in range(n_steps):\n",
        "    # select a batch of real samples\n",
        "    X_realA, y_realA = generate_real_samples(trainA, n_batch, n_patch)\n",
        "    X_realB, y_realB = generate_real_samples(trainB, n_batch, n_patch)\n",
        "    # generate a batch of fake samples\n",
        "    X_fakeA, y_fakeA = generate_fake_samples(g_model_BtoA, X_realB, n_patch)\n",
        "    X_fakeB, y_fakeB = generate_fake_samples(g_model_AtoB, X_realA, n_patch)\n",
        "    # update fakes from pool\n",
        "    X_fakeA = update_image_pool(poolA, X_fakeA)\n",
        "    X_fakeB = update_image_pool(poolB, X_fakeB)\n",
        "    # update generator B->A via adversarial and cycle loss\n",
        "    g_loss2, _, _, _, _ = c_model_BtoA.train_on_batch([X_realB, X_realA], [y_realA, X_realA, X_realB, X_realA])\n",
        "    # update discriminator for A -> [real/fake]\n",
        "    dA_loss1 = d_model_A.train_on_batch(X_realA, y_realA)\n",
        "    dA_loss2 = d_model_A.train_on_batch(X_fakeA, y_fakeA)\n",
        "    # update generator A->B via adversarial and cycle loss\n",
        "    g_loss1, _, _, _, _ = c_model_AtoB.train_on_batch([X_realA, X_realB], [y_realB, X_realB, X_realA, X_realB])\n",
        "    # update discriminator for B -> [real/fake]\n",
        "    dB_loss1 = d_model_B.train_on_batch(X_realB, y_realB)\n",
        "    dB_loss2 = d_model_B.train_on_batch(X_fakeB, y_fakeB)\n",
        "    # summarize performance\n",
        "    print('>%d, dA[%.3f,%.3f] dB[%.3f,%.3f] g[%.3f,%.3f]' % (i+1, dA_loss1,dA_loss2, dB_loss1,dB_loss2, g_loss1,g_loss2))\n",
        "    # evaluate the model performance every so often\n",
        "    if (i+1) % (bat_per_epo * 1) == 0:\n",
        "      # plot A->B translation\n",
        "      summarize_performance(i, g_model_AtoB, trainA, 'AtoB')\n",
        "      # plot B->A translation\n",
        "      summarize_performance(i, g_model_BtoA, trainB, 'BtoA')\n",
        "    if (i+1) % (bat_per_epo * 5) == 0:\n",
        "      # save the models\n",
        "      save_models(i, g_model_AtoB, g_model_BtoA)"
      ],
      "execution_count": 0,
      "outputs": []
    },
    {
      "cell_type": "markdown",
      "metadata": {
        "id": "iDK3TJW1TFt1",
        "colab_type": "text"
      },
      "source": [
        "## Select Sample / Show Plot"
      ]
    },
    {
      "cell_type": "code",
      "metadata": {
        "id": "IQ_zg4EITMp5",
        "colab_type": "code",
        "colab": {}
      },
      "source": [
        "# select a random sample of images from the dataset\n",
        "def select_sample(dataset, n_samples):\n",
        "  # choose random instances\n",
        "  ix = randint(0, dataset.shape[0], n_samples)\n",
        "  # retrieve selected images\n",
        "  X = dataset[ix]\n",
        "  return X"
      ],
      "execution_count": 0,
      "outputs": []
    },
    {
      "cell_type": "code",
      "metadata": {
        "id": "wDT5j8egTbcA",
        "colab_type": "code",
        "colab": {}
      },
      "source": [
        "# plot the image, the translation, and the reconstruction\n",
        "def show_plot(imagesX, imagesY1, imagesY2):\n",
        "  images = vstack((imagesX, imagesY1, imagesY2))\n",
        "  titles = ['Real', 'Generated', 'Reconstructed']\n",
        "  # scale from [-1,1] to [0,1]\n",
        "  images = (images + 1) / 2.0\n",
        "  # plot images row by row\n",
        "  for i in range(len(images)):\n",
        "    # define subplot\n",
        "    pyplot.subplot(1, len(images), 1 + i)\n",
        "    # turn off axis\n",
        "    pyplot.axis('off')\n",
        "    # plot raw pixel data\n",
        "    pyplot.imshow(images[i])\n",
        "    # title\n",
        "    pyplot.title(titles[i])\n",
        "  pyplot.show()"
      ],
      "execution_count": 0,
      "outputs": []
    },
    {
      "cell_type": "markdown",
      "metadata": {
        "id": "EE4MLvVrVXkD",
        "colab_type": "text"
      },
      "source": [
        "## Load image"
      ]
    },
    {
      "cell_type": "code",
      "metadata": {
        "id": "_Mxy_I3wVdxO",
        "colab_type": "code",
        "colab": {}
      },
      "source": [
        "# load an image to the preferred size\n",
        "def load_image(filename, size=(256,256)):\n",
        "  # load and resize the image\n",
        "  pixels = load_img(filename, target_size=size)\n",
        "  # convert to numpy array\n",
        "  pixels = img_to_array(pixels)\n",
        "  # transform in a sample\n",
        "  pixels = expand_dims(pixels, 0)\n",
        "  # scale from [0,255] to [-1,1]\n",
        "  pixels = (pixels - 127.5) / 127.5\n",
        "  return pixels"
      ],
      "execution_count": 0,
      "outputs": []
    },
    {
      "cell_type": "markdown",
      "metadata": {
        "id": "5RqDd5TuIySe",
        "colab_type": "text"
      },
      "source": [
        "# Start program"
      ]
    },
    {
      "cell_type": "code",
      "metadata": {
        "id": "kbdALya9I1Vp",
        "colab_type": "code",
        "colab": {
          "base_uri": "https://localhost:8080/",
          "height": 34
        },
        "outputId": "264205c0-ff54-49d7-dc0e-006f768c245a"
      },
      "source": [
        "# example of training a cyclegan on the horse2zebra dataset\n",
        "from random import random\n",
        "from numpy import load\n",
        "from numpy import zeros\n",
        "from numpy import ones\n",
        "from numpy import asarray\n",
        "from numpy.random import randint\n",
        "from keras.optimizers import Adam\n",
        "from keras.initializers import RandomNormal\n",
        "from keras.models import Model\n",
        "from keras.models import Input\n",
        "from keras.layers import Conv2D\n",
        "from keras.layers import Conv2DTranspose\n",
        "from keras.layers import LeakyReLU\n",
        "from keras.layers import Activation\n",
        "from keras.layers import Concatenate\n",
        "from keras_contrib.layers.normalization.instancenormalization import InstanceNormalization\n",
        "from matplotlib import pyplot\n",
        "\n",
        "# load image data\n",
        "dataset = load_real_samples('nopool2pool_256.npz')\n",
        "print('Loaded', dataset[0].shape, dataset[1].shape)\n",
        "# define input shape based on the loaded dataset\n",
        "image_shape = dataset[0].shape[1:]\n",
        "# generator: A -> B\n",
        "g_model_AtoB = define_generator(image_shape)\n",
        "# generator: B -> A\n",
        "g_model_BtoA = define_generator(image_shape)\n",
        "# discriminator: A -> [real/fake]\n",
        "d_model_A = define_discriminator(image_shape)\n",
        "# discriminator: B -> [real/fake]\n",
        "d_model_B = define_discriminator(image_shape)\n",
        "# composite: A -> B -> [real/fake, A]\n",
        "c_model_AtoB = define_composite_model(g_model_AtoB, d_model_B, g_model_BtoA, image_shape)\n",
        "# composite: B -> A -> [real/fake, B]\n",
        "c_model_BtoA = define_composite_model(g_model_BtoA, d_model_A, g_model_AtoB, image_shape)\n",
        "# train models\n",
        "train(d_model_A, d_model_B, g_model_AtoB, g_model_BtoA, c_model_AtoB, c_model_BtoA, dataset)"
      ],
      "execution_count": 0,
      "outputs": [
        {
          "output_type": "stream",
          "text": [
            "Loaded (805, 256, 256, 3) (36, 256, 256, 3)\n"
          ],
          "name": "stdout"
        }
      ]
    },
    {
      "cell_type": "code",
      "metadata": {
        "id": "aNqhAXQhUEK6",
        "colab_type": "code",
        "colab": {}
      },
      "source": [
        "# example of using saved cyclegan models for image translation\n",
        "from keras.models import load_model\n",
        "from numpy import load\n",
        "from numpy import vstack\n",
        "from matplotlib import pyplot\n",
        "from numpy.random import randint\n",
        "from keras_contrib.layers.normalization.instancenormalization import InstanceNormalization\n",
        "\n",
        "# load dataset\n",
        "A_data, B_data = load_real_samples('nopool2pool_256.npz')\n",
        "print('Loaded', A_data.shape, B_data.shape)\n",
        "# load the models\n",
        "cust = {'InstanceNormalization': InstanceNormalization}\n",
        "model_AtoB = load_model('g_model_AtoB_XXXXX.h5', cust)\n",
        "model_BtoA = load_model('g_model_BtoA_XXXXX.h5', cust)\n",
        "# plot A->B->A\n",
        "A_real = select_sample(A_data, 1)\n",
        "B_generated = model_AtoB.predict(A_real)\n",
        "A_reconstructed = model_BtoA.predict(B_generated)\n",
        "show_plot(A_real, B_generated, A_reconstructed)\n",
        "# plot B->A->B\n",
        "B_real = select_sample(B_data, 1)\n",
        "A_generated = model_BtoA.predict(B_real)\n",
        "B_reconstructed = model_AtoB.predict(A_generated)\n",
        "show_plot(B_real, A_generated, B_reconstructed)"
      ],
      "execution_count": 0,
      "outputs": []
    },
    {
      "cell_type": "code",
      "metadata": {
        "id": "T3zess5XV4Q7",
        "colab_type": "code",
        "colab": {}
      },
      "source": [
        "# example of using saved cyclegan models for image translation\n",
        "from numpy import load\n",
        "from numpy import expand_dims\n",
        "from keras.models import load_model\n",
        "from keras_contrib.layers.normalization.instancenormalization import InstanceNormalization\n",
        "from keras.preprocessing.image import img_to_array\n",
        "from keras.preprocessing.image import load_img\n",
        "from matplotlib import pyplot\n",
        "\n",
        "# load the image\n",
        "image_src = load_image('nopool2pool/trainX/XXX.jpg')\n",
        "# load the model\n",
        "cust = {'InstanceNormalization': InstanceNormalization}\n",
        "model_AtoB = load_model('g_model_AtoB_XXXXX.h5', cust)\n",
        "# translate image\n",
        "image_tar = model_AtoB.predict(image_src)\n",
        "# scale from [-1,1] to [0,1]\n",
        "image_tar = (image_tar + 1) / 2.0\n",
        "# plot the translated image\n",
        "pyplot.imshow(image_tar[0])\n",
        "pyplot.show()"
      ],
      "execution_count": 0,
      "outputs": []
    }
  ]
}